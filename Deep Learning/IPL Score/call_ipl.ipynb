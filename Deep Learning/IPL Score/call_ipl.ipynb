{
  "nbformat": 4,
  "nbformat_minor": 0,
  "metadata": {
    "colab": {
      "provenance": []
    },
    "kernelspec": {
      "name": "python3",
      "display_name": "Python 3"
    },
    "language_info": {
      "name": "python"
    }
  },
  "cells": [
    {
      "cell_type": "code",
      "source": [
        "import tensorflow as tf\n",
        "import requests"
      ],
      "metadata": {
        "id": "1S_gaWipMwId"
      },
      "execution_count": 7,
      "outputs": []
    },
    {
      "cell_type": "code",
      "source": [
        "loaded_model=tf.keras.models.load_model('/content/drive/MyDrive/deep_learning')"
      ],
      "metadata": {
        "id": "9b0t3ccFMMsi"
      },
      "execution_count": 8,
      "outputs": []
    },
    {
      "cell_type": "code",
      "source": [
        "flask_url = 'http://localhost:5000/predicted'\n"
      ],
      "metadata": {
        "id": "gVMHOD5FMPj5"
      },
      "execution_count": 6,
      "outputs": []
    }
  ]
}