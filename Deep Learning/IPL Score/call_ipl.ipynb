{
  "cells": [
    {
      "cell_type": "code",
      "execution_count": 1,
      "metadata": {},
      "outputs": [
        {
          "name": "stdout",
          "output_type": "stream",
          "text": [
            "Requirement already satisfied: flask-ngrok in c:\\users\\vishnu\\anaconda3\\lib\\site-packages (0.0.25)\n",
            "Requirement already satisfied: Flask>=0.8 in c:\\users\\vishnu\\anaconda3\\lib\\site-packages (from flask-ngrok) (2.2.5)\n",
            "Requirement already satisfied: requests in c:\\users\\vishnu\\anaconda3\\lib\\site-packages (from flask-ngrok) (2.31.0)\n",
            "Requirement already satisfied: Werkzeug>=2.2.2 in c:\\users\\vishnu\\anaconda3\\lib\\site-packages (from Flask>=0.8->flask-ngrok) (2.2.3)\n",
            "Requirement already satisfied: Jinja2>=3.0 in c:\\users\\vishnu\\anaconda3\\lib\\site-packages (from Flask>=0.8->flask-ngrok) (3.1.3)\n",
            "Requirement already satisfied: itsdangerous>=2.0 in c:\\users\\vishnu\\anaconda3\\lib\\site-packages (from Flask>=0.8->flask-ngrok) (2.0.1)\n",
            "Requirement already satisfied: click>=8.0 in c:\\users\\vishnu\\anaconda3\\lib\\site-packages (from Flask>=0.8->flask-ngrok) (8.1.7)\n",
            "Requirement already satisfied: charset-normalizer<4,>=2 in c:\\users\\vishnu\\anaconda3\\lib\\site-packages (from requests->flask-ngrok) (2.0.4)\n",
            "Requirement already satisfied: idna<4,>=2.5 in c:\\users\\vishnu\\anaconda3\\lib\\site-packages (from requests->flask-ngrok) (3.4)\n",
            "Requirement already satisfied: urllib3<3,>=1.21.1 in c:\\users\\vishnu\\anaconda3\\lib\\site-packages (from requests->flask-ngrok) (2.0.7)\n",
            "Requirement already satisfied: certifi>=2017.4.17 in c:\\users\\vishnu\\anaconda3\\lib\\site-packages (from requests->flask-ngrok) (2024.2.2)\n",
            "Requirement already satisfied: colorama in c:\\users\\vishnu\\anaconda3\\lib\\site-packages (from click>=8.0->Flask>=0.8->flask-ngrok) (0.4.6)\n",
            "Requirement already satisfied: MarkupSafe>=2.0 in c:\\users\\vishnu\\anaconda3\\lib\\site-packages (from Jinja2>=3.0->Flask>=0.8->flask-ngrok) (2.1.3)\n",
            "Requirement already satisfied: pyngrok in c:\\users\\vishnu\\anaconda3\\lib\\site-packages (7.1.6)\n",
            "Requirement already satisfied: PyYAML>=5.1 in c:\\users\\vishnu\\anaconda3\\lib\\site-packages (from pyngrok) (6.0.1)\n",
            "Requirement already satisfied: flask_cors in c:\\users\\vishnu\\anaconda3\\lib\\site-packages (4.0.1)\n",
            "Requirement already satisfied: Flask>=0.9 in c:\\users\\vishnu\\anaconda3\\lib\\site-packages (from flask_cors) (2.2.5)\n",
            "Requirement already satisfied: Werkzeug>=2.2.2 in c:\\users\\vishnu\\anaconda3\\lib\\site-packages (from Flask>=0.9->flask_cors) (2.2.3)\n",
            "Requirement already satisfied: Jinja2>=3.0 in c:\\users\\vishnu\\anaconda3\\lib\\site-packages (from Flask>=0.9->flask_cors) (3.1.3)\n",
            "Requirement already satisfied: itsdangerous>=2.0 in c:\\users\\vishnu\\anaconda3\\lib\\site-packages (from Flask>=0.9->flask_cors) (2.0.1)\n",
            "Requirement already satisfied: click>=8.0 in c:\\users\\vishnu\\anaconda3\\lib\\site-packages (from Flask>=0.9->flask_cors) (8.1.7)\n",
            "Requirement already satisfied: colorama in c:\\users\\vishnu\\anaconda3\\lib\\site-packages (from click>=8.0->Flask>=0.9->flask_cors) (0.4.6)\n",
            "Requirement already satisfied: MarkupSafe>=2.0 in c:\\users\\vishnu\\anaconda3\\lib\\site-packages (from Jinja2>=3.0->Flask>=0.9->flask_cors) (2.1.3)\n"
          ]
        }
      ],
      "source": [
        "!pip install flask-ngrok\n",
        "!pip install pyngrok\n",
        "!pip install flask_cors"
      ]
    },
    {
      "cell_type": "code",
      "execution_count": 4,
      "metadata": {
        "id": "1S_gaWipMwId"
      },
      "outputs": [],
      "source": [
        "import tensorflow as tf"
      ]
    },
    {
      "cell_type": "code",
      "execution_count": 9,
      "metadata": {
        "id": "9b0t3ccFMMsi"
      },
      "outputs": [],
      "source": [
        "from keras.layers import TFSMLayer\n",
        "load_model = TFSMLayer('model', call_endpoint='serving_default')"
      ]
    },
    {
      "cell_type": "code",
      "execution_count": 6,
      "metadata": {
        "id": "gVMHOD5FMPj5"
      },
      "outputs": [],
      "source": [
        "flask_url = 'http://localhost:5000/predicted'"
      ]
    },
    {
      "cell_type": "code",
      "execution_count": 20,
      "metadata": {},
      "outputs": [
        {
          "name": "stdout",
          "output_type": "stream",
          "text": [
            " * Serving Flask app '__main__'\n",
            " * Debug mode: off\n"
          ]
        },
        {
          "name": "stderr",
          "output_type": "stream",
          "text": [
            "WARNING: This is a development server. Do not use it in a production deployment. Use a production WSGI server instead.\n",
            " * Running on http://127.0.0.1:8888\n",
            "Press CTRL+C to quit\n",
            "c:\\Users\\Vishnu\\anaconda3\\Lib\\site-packages\\sklearn\\base.py:439: UserWarning: X does not have valid feature names, but MinMaxScaler was fitted with feature names\n",
            "  warnings.warn(\n",
            "127.0.0.1 - - [30/May/2024 14:11:45] \"POST /receive_data HTTP/1.1\" 200 -\n",
            "c:\\Users\\Vishnu\\anaconda3\\Lib\\site-packages\\sklearn\\base.py:439: UserWarning: X does not have valid feature names, but MinMaxScaler was fitted with feature names\n",
            "  warnings.warn(\n",
            "127.0.0.1 - - [30/May/2024 14:12:08] \"POST /receive_data HTTP/1.1\" 200 -\n"
          ]
        }
      ],
      "source": [
        "from flask import Flask, request, jsonify\n",
        "import joblib\n",
        "import numpy as np\n",
        "import requests\n",
        "\n",
        "app = Flask(__name__)\n",
        "\n",
        "\n",
        "@app.route('/receive_data', methods=['GET','POST'])\n",
        "def receive_data():\n",
        "    data = request.get_json(force=True)\n",
        "    scaler=joblib.load('python_objects/scaler.pkl')\n",
        "    input_data = np.array([data['venue'],data['batting'], data['bowling'], data['striker'], data['bowler']])\n",
        "    input_data = input_data.reshape(1, 5)\n",
        "    input_data = scaler.transform(input_data)\n",
        "    \n",
        "    predicted_score = load_model(input_data)\n",
        "    dense_2_output = predicted_score['dense_2']  #\n",
        "\n",
        "    predicted_score_array = dense_2_output.numpy()\n",
        "    score=int(predicted_score_array[0][0])\n",
        "    return jsonify({'score':score})\n",
        "\n",
        "if __name__ == '__main__':\n",
        "    app.run(port=8888)\n",
        "\n"
      ]
    }
  ],
  "metadata": {
    "colab": {
      "provenance": []
    },
    "kernelspec": {
      "display_name": "Python 3",
      "name": "python3"
    },
    "language_info": {
      "codemirror_mode": {
        "name": "ipython",
        "version": 3
      },
      "file_extension": ".py",
      "mimetype": "text/x-python",
      "name": "python",
      "nbconvert_exporter": "python",
      "pygments_lexer": "ipython3",
      "version": "3.11.7"
    }
  },
  "nbformat": 4,
  "nbformat_minor": 0
}
