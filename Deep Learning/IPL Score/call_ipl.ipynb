{
  "cells": [
    {
      "cell_type": "code",
      "execution_count": null,
      "metadata": {},
      "outputs": [],
      "source": [
        "!pip install tensorflow"
      ]
    },
    {
      "cell_type": "code",
      "execution_count": 2,
      "metadata": {
        "id": "1S_gaWipMwId"
      },
      "outputs": [],
      "source": [
        "import tensorflow as tf"
      ]
    },
    {
      "cell_type": "code",
      "execution_count": 1,
      "metadata": {
        "id": "9b0t3ccFMMsi"
      },
      "outputs": [],
      "source": [
        "from keras.layers import TFSMLayer\n",
        "load_model = TFSMLayer('model', call_endpoint='serving_default')"
      ]
    },
    {
      "cell_type": "code",
      "execution_count": 3,
      "metadata": {
        "id": "gVMHOD5FMPj5"
      },
      "outputs": [],
      "source": [
        "flask_url = 'http://localhost:5000/predicted'"
      ]
    },
    {
      "cell_type": "code",
      "execution_count": 1,
      "metadata": {},
      "outputs": [
        {
          "name": "stdout",
          "output_type": "stream",
          "text": [
            " * Serving Flask app '__main__'\n",
            " * Debug mode: off\n"
          ]
        },
        {
          "name": "stderr",
          "output_type": "stream",
          "text": [
            "WARNING: This is a development server. Do not use it in a production deployment. Use a production WSGI server instead.\n",
            " * Running on http://127.0.0.1:8888\n",
            "Press CTRL+C to quit\n",
            "[2024-05-30 00:28:19,179] ERROR in app: Exception on /receive_data [POST]\n",
            "Traceback (most recent call last):\n",
            "  File \"c:\\Users\\Vishnu\\anaconda3\\Lib\\site-packages\\requests\\models.py\", line 971, in json\n",
            "    return complexjson.loads(self.text, **kwargs)\n",
            "           ^^^^^^^^^^^^^^^^^^^^^^^^^^^^^^^^^^^^^^\n",
            "  File \"c:\\Users\\Vishnu\\anaconda3\\Lib\\json\\__init__.py\", line 346, in loads\n",
            "    return _default_decoder.decode(s)\n",
            "           ^^^^^^^^^^^^^^^^^^^^^^^^^^\n",
            "  File \"c:\\Users\\Vishnu\\anaconda3\\Lib\\json\\decoder.py\", line 337, in decode\n",
            "    obj, end = self.raw_decode(s, idx=_w(s, 0).end())\n",
            "               ^^^^^^^^^^^^^^^^^^^^^^^^^^^^^^^^^^^^^^\n",
            "  File \"c:\\Users\\Vishnu\\anaconda3\\Lib\\json\\decoder.py\", line 355, in raw_decode\n",
            "    raise JSONDecodeError(\"Expecting value\", s, err.value) from None\n",
            "json.decoder.JSONDecodeError: Expecting value: line 1 column 1 (char 0)\n",
            "\n",
            "During handling of the above exception, another exception occurred:\n",
            "\n",
            "Traceback (most recent call last):\n",
            "  File \"c:\\Users\\Vishnu\\anaconda3\\Lib\\site-packages\\flask\\app.py\", line 2529, in wsgi_app\n",
            "    response = self.full_dispatch_request()\n",
            "               ^^^^^^^^^^^^^^^^^^^^^^^^^^^^\n",
            "  File \"c:\\Users\\Vishnu\\anaconda3\\Lib\\site-packages\\flask\\app.py\", line 1825, in full_dispatch_request\n",
            "    rv = self.handle_user_exception(e)\n",
            "         ^^^^^^^^^^^^^^^^^^^^^^^^^^^^^\n",
            "  File \"c:\\Users\\Vishnu\\anaconda3\\Lib\\site-packages\\flask\\app.py\", line 1823, in full_dispatch_request\n",
            "    rv = self.dispatch_request()\n",
            "         ^^^^^^^^^^^^^^^^^^^^^^^\n",
            "  File \"c:\\Users\\Vishnu\\anaconda3\\Lib\\site-packages\\flask\\app.py\", line 1799, in dispatch_request\n",
            "    return self.ensure_sync(self.view_functions[rule.endpoint])(**view_args)\n",
            "           ^^^^^^^^^^^^^^^^^^^^^^^^^^^^^^^^^^^^^^^^^^^^^^^^^^^^^^^^^^^^^^^^^\n",
            "  File \"C:\\Users\\Vishnu\\AppData\\Local\\Temp\\ipykernel_13476\\951206779.py\", line 10, in receive_data\n",
            "    print(data.json())\n",
            "          ^^^^^^^^^^^\n",
            "  File \"c:\\Users\\Vishnu\\anaconda3\\Lib\\site-packages\\requests\\models.py\", line 975, in json\n",
            "    raise RequestsJSONDecodeError(e.msg, e.doc, e.pos)\n",
            "requests.exceptions.JSONDecodeError: Expecting value: line 1 column 1 (char 0)\n",
            "127.0.0.1 - - [30/May/2024 00:28:19] \"POST /receive_data HTTP/1.1\" 500 -\n"
          ]
        },
        {
          "ename": "",
          "evalue": "",
          "output_type": "error",
          "traceback": [
            "\u001b[1;31mThe Kernel crashed while executing code in the current cell or a previous cell. \n",
            "\u001b[1;31mPlease review the code in the cell(s) to identify a possible cause of the failure. \n",
            "\u001b[1;31mClick <a href='https://aka.ms/vscodeJupyterKernelCrash'>here</a> for more info. \n",
            "\u001b[1;31mView Jupyter <a href='command:jupyter.viewOutput'>log</a> for further details."
          ]
        }
      ],
      "source": [
        "from flask import Flask, jsonify, request\n",
        "import numpy as np\n",
        "import joblib\n",
        "import requests\n",
        "app = Flask(__name__)\n",
        "\n",
        "@app.route('/receive_data', methods=['GET','POST'])\n",
        "def receive_data():\n",
        "    data = requests.get('http://localhost:5000/predicted')\n",
        "    print(data.json())\n",
        "    venue_encoder=joblib.load('python_objects/venue_encoder.pkl')\n",
        "    batting_encoder=joblib.load('python_objects/batting_team_encoder.pkl')\n",
        "    bowling_encoder=joblib.load('python_objects/bowling_team_encoder.pkl')\n",
        "    striker_encoder=joblib.load('python_objects/striker_encoder.pkl')\n",
        "    bowler_encoder=joblib.load('python_objects/bowler_encoder.pkl')\n",
        "    scaler=joblib.load('python_objects/scaler.pkl')\n",
        "    encoded_venue=venue_encoder.transform([data['venue']])\n",
        "    encoded_batting_team=batting_encoder.transform([data['batting']])\n",
        "    encoded_bowling_team=bowling_encoder.transform([data['bowling']])\n",
        "    encoded_striker=striker_encoder.transform([data['striker']])\n",
        "    encoded_bowler=bowler_encoder.transform([data['bowler']])\n",
        "    input_data = np.array([encoded_venue, encoded_batting_team, encoded_bowling_team, encoded_striker, encoded_bowler])\n",
        "    input_data = input_data.reshape(1, 5)\n",
        "    input_data = scaler.transform(input_data)\n",
        "    # Predict score\n",
        "    predicted_score = load_model.predict(input_data)\n",
        "    score=int(predicted_score)\n",
        "    return jsonify({'score':score})\n",
        "\n",
        "if __name__ == '__main__':\n",
        "    app.run(port=8888)\n"
      ]
    }
  ],
  "metadata": {
    "colab": {
      "provenance": []
    },
    "kernelspec": {
      "display_name": "Python 3",
      "name": "python3"
    },
    "language_info": {
      "codemirror_mode": {
        "name": "ipython",
        "version": 3
      },
      "file_extension": ".py",
      "mimetype": "text/x-python",
      "name": "python",
      "nbconvert_exporter": "python",
      "pygments_lexer": "ipython3",
      "version": "3.11.7"
    }
  },
  "nbformat": 4,
  "nbformat_minor": 0
}
